{
 "cells": [
  {
   "cell_type": "markdown",
   "id": "f36a03a9-ec08-4086-93fa-dc7ebc896ddf",
   "metadata": {},
   "source": [
    "<h1>Assignment | 19 Aug 2023</h1>"
   ]
  },
  {
   "cell_type": "markdown",
   "id": "38dce578-15a3-45da-935d-854330486f5d",
   "metadata": {},
   "source": [
    "<h2>TOPIC: Python Basics Variable</h2>"
   ]
  },
  {
   "cell_type": "markdown",
   "id": "04ecaa4b-8127-4b76-a7fa-9b6de355f3db",
   "metadata": {},
   "source": [
    "<br><b>Problem 1.1.1 </b><br>Declare two variables, `x` and `y`, and assign them integer values. Swap the values of these variables without using any temporary variable."
   ]
  },
  {
   "cell_type": "code",
   "execution_count": 6,
   "id": "99d9ce89-d07a-42e1-a2b1-98983d648d7a",
   "metadata": {},
   "outputs": [
    {
     "name": "stdout",
     "output_type": "stream",
     "text": [
      "x: 8\n",
      "y: 5\n"
     ]
    }
   ],
   "source": [
    "x = 5\n",
    "y = 8\n",
    "\n",
    "x=x+y\n",
    "y=x-y\n",
    "x=x-y\n",
    "\n",
    "print(\"x:\", x)\n",
    "print(\"y:\", y)\n"
   ]
  },
  {
   "cell_type": "markdown",
   "id": "7901dbd0-bc3c-4f90-a20e-a012595a7e5a",
   "metadata": {},
   "source": [
    "<br><b>Problem 1.1.2:</b><br>\n",
    "Create a program that calculates the area of a rectangle. Take the length and width as inputs from the user and store them in variables. Calculate and display the area."
   ]
  },
  {
   "cell_type": "code",
   "execution_count": 15,
   "id": "94bcbaba-d844-4c00-9d59-28eb678f45dc",
   "metadata": {},
   "outputs": [
    {
     "name": "stdin",
     "output_type": "stream",
     "text": [
      "Enter Length of Rectangle! 5\n",
      "Enter Width of Rectangle! 8\n"
     ]
    },
    {
     "name": "stdout",
     "output_type": "stream",
     "text": [
      "Area of Rectangle: 40\n"
     ]
    }
   ],
   "source": [
    "length = int(input(\"Enter Length of Rectangle!\"))\n",
    "\n",
    "width = int(input(\"Enter Width of Rectangle!\"))\n",
    "\n",
    "area = length* width\n",
    "print(\"Area of Rectangle:\", area)"
   ]
  },
  {
   "cell_type": "markdown",
   "id": "90665978-7dab-46bb-8826-eb2e0dfa3946",
   "metadata": {},
   "source": [
    "<br><b>Problem 1.1.3. </b><br>\n",
    "Write a Python program that converts temperatures from Celsius to Fahrenheit. Take the temperature in Celsius as input, store it in a variable, convert it to Fahrenheit, and display the result."
   ]
  },
  {
   "cell_type": "code",
   "execution_count": 12,
   "id": "385e6c8b-8d95-4e23-ab87-2bc3adc8ca96",
   "metadata": {
    "tags": []
   },
   "outputs": [
    {
     "name": "stdin",
     "output_type": "stream",
     "text": [
      "Enter Temprature in Celsius! 45.7\n"
     ]
    },
    {
     "name": "stdout",
     "output_type": "stream",
     "text": [
      "Temprature in Fahrenheit: 114.26\n"
     ]
    }
   ],
   "source": [
    "temp_C = float(input(\"Enter Temprature in Celsius!\"))\n",
    "temp_F = (temp_C * 1.8) + 32\n",
    "\n",
    "print(\"Temprature in Fahrenheit:\", temp_F)"
   ]
  },
  {
   "cell_type": "markdown",
   "id": "92cea7df-a3bc-4388-8f6b-6a41fcf0ab8f",
   "metadata": {},
   "source": [
    "<br><h2>TOPIC: String Based Questions</h2>"
   ]
  },
  {
   "cell_type": "markdown",
   "id": "a4f17ed5-8de1-4004-a6ca-d38c89162b63",
   "metadata": {},
   "source": [
    "<br><b>Problem 1.2.1. </b><br>\n",
    "Write a Python program that takes a string as input and prints the length of the string."
   ]
  },
  {
   "cell_type": "code",
   "execution_count": 14,
   "id": "da729475-3e53-4069-b59b-4d1860b9d7a7",
   "metadata": {},
   "outputs": [
    {
     "name": "stdin",
     "output_type": "stream",
     "text": [
      "Enter a String! 34234dsfsdfsdfgd\n"
     ]
    },
    {
     "name": "stdout",
     "output_type": "stream",
     "text": [
      "Length of your input string is: 16\n"
     ]
    }
   ],
   "source": [
    "s=input(\"Enter a String!\")\n",
    "print(\"Length of your input string is:\", len(s))"
   ]
  },
  {
   "cell_type": "markdown",
   "id": "0fbbb81b-80cc-4f8b-aac7-169346fe28ba",
   "metadata": {},
   "source": [
    "<br><b>Problem 1.2.2. </b><br>Create a program that takes a sentence from the user and counts the number of vowels (a, e, i, o, u) in the string."
   ]
  },
  {
   "cell_type": "code",
   "execution_count": 23,
   "id": "b05c9df5-ac2f-455e-995c-69e6d6b13041",
   "metadata": {},
   "outputs": [
    {
     "name": "stdin",
     "output_type": "stream",
     "text": [
      "Enter a String! wereruioggfcassd\n"
     ]
    },
    {
     "name": "stdout",
     "output_type": "stream",
     "text": [
      "Vowel count: 6\n"
     ]
    }
   ],
   "source": [
    "s=input(\"Enter a String!\")\n",
    "vowel=('a','e','i','o','u')\n",
    "count=0\n",
    "for i in range(len(s)):\n",
    "    if s[i] in vowel:\n",
    "        count +=1\n",
    "print(\"Vowel count:\", count)"
   ]
  },
  {
   "cell_type": "markdown",
   "id": "63db69ca-90d5-4d74-8ca7-c294a0ccfe0a",
   "metadata": {},
   "source": [
    "<br><b>Problem 1.2.3. </b><br>Given a string, reverse the order of characters using string slicing and print the reversed string."
   ]
  },
  {
   "cell_type": "code",
   "execution_count": 27,
   "id": "03d9cc03-b83e-4ce4-9a97-89b9f323959c",
   "metadata": {},
   "outputs": [
    {
     "name": "stdin",
     "output_type": "stream",
     "text": [
      "Enter a String! Gaurav Ranjan\n"
     ]
    },
    {
     "name": "stdout",
     "output_type": "stream",
     "text": [
      "najnaR varuaG\n"
     ]
    }
   ],
   "source": [
    "s=input(\"Enter a String!\")\n",
    "len_s = len(s)\n",
    "rev_s = s[(len_s-1)::-1]\n",
    "print(rev_s)"
   ]
  },
  {
   "cell_type": "markdown",
   "id": "4717afcc-96c9-4535-9ac1-5cabf304c3d4",
   "metadata": {},
   "source": [
    "<br><b>Problem 1.2.4. </b><br>Write a program that takes a string as input and checks if it is a palindrome (reads the same forwards and backwards)."
   ]
  },
  {
   "cell_type": "code",
   "execution_count": 2,
   "id": "104f500b-9983-4e9d-b1e2-5fd48859e65a",
   "metadata": {},
   "outputs": [
    {
     "name": "stdin",
     "output_type": "stream",
     "text": [
      "Enter a String! lal\n"
     ]
    },
    {
     "name": "stdout",
     "output_type": "stream",
     "text": [
      "Yes\n"
     ]
    }
   ],
   "source": [
    "def isPalindrome(s):\n",
    "    return s == s[::-1]\n",
    " \n",
    " \n",
    "s=input(\"Enter a String!\")\n",
    "ans = isPalindrome(s)\n",
    " \n",
    "if ans:\n",
    "    print(\"Yes\")\n",
    "else:\n",
    "    print(\"No\")"
   ]
  },
  {
   "cell_type": "markdown",
   "id": "f1e4b031-2315-4695-a6d1-26190017e082",
   "metadata": {},
   "source": [
    "<br><b>Problem 1.2.5. </b><br>Create a program that takes a string as input and removes all the spaces from it. Print the modified string without spaces."
   ]
  },
  {
   "cell_type": "code",
   "execution_count": 29,
   "id": "961a5fee-91f5-4282-ade0-bfedb1b337c5",
   "metadata": {},
   "outputs": [
    {
     "name": "stdin",
     "output_type": "stream",
     "text": [
      "Enter a String! This is a String\n"
     ]
    },
    {
     "name": "stdout",
     "output_type": "stream",
     "text": [
      "ThisisaString\n"
     ]
    }
   ],
   "source": [
    "#### 1\n",
    "s=input(\"Enter a String!\")\n",
    "s_new = s.split(' ')\n",
    "print(\"\".join(s_new))"
   ]
  },
  {
   "cell_type": "code",
   "execution_count": 32,
   "id": "78c6f5fe-ba1c-46d8-9ef8-bd967ac0fb2f",
   "metadata": {},
   "outputs": [
    {
     "name": "stdin",
     "output_type": "stream",
     "text": [
      "Enter a String! This is the Second          Method .\n"
     ]
    },
    {
     "name": "stdout",
     "output_type": "stream",
     "text": [
      "ThisistheSecondMethod.\n"
     ]
    }
   ],
   "source": [
    "#### 2\n",
    "s=input(\"Enter a String!\")\n",
    "s_new = s.replace(' ','')\n",
    "print(s_new)"
   ]
  },
  {
   "cell_type": "code",
   "execution_count": null,
   "id": "b06ff601-97d7-4a43-8cb8-45711902b450",
   "metadata": {},
   "outputs": [],
   "source": []
  }
 ],
 "metadata": {
  "kernelspec": {
   "display_name": "Python 3 (ipykernel)",
   "language": "python",
   "name": "python3"
  },
  "language_info": {
   "codemirror_mode": {
    "name": "ipython",
    "version": 3
   },
   "file_extension": ".py",
   "mimetype": "text/x-python",
   "name": "python",
   "nbconvert_exporter": "python",
   "pygments_lexer": "ipython3",
   "version": "3.10.8"
  }
 },
 "nbformat": 4,
 "nbformat_minor": 5
}
